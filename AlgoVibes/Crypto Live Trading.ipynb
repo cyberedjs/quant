{
 "cells": [
  {
   "cell_type": "code",
   "execution_count": 9,
   "metadata": {},
   "outputs": [],
   "source": [
    "api_key = \"ncaGKCQNu9KS8kEwF3Jri37YjsOkKCfLGiKZcq87iThEU3QZIWdxOyeQLUvOCPpG\"\n",
    "api_secret = \"tvSQ36Idx7W1QwiMx5ycduhziLQZaHUbhnHZGhqlSRaF6VrkP8QqsLY3LCidthdJ\""
   ]
  },
  {
   "cell_type": "code",
   "execution_count": 10,
   "metadata": {},
   "outputs": [],
   "source": [
    "import sqlalchemy\n",
    "import pandas as pd\n",
    "from binance.client import Client"
   ]
  },
  {
   "cell_type": "code",
   "execution_count": 11,
   "metadata": {},
   "outputs": [],
   "source": [
    "client = Client(api_key, api_secret)"
   ]
  },
  {
   "cell_type": "code",
   "execution_count": 12,
   "metadata": {},
   "outputs": [],
   "source": [
    "engine = sqlalchemy.create_engine('sqlite:///BTCUSDTstream.db')"
   ]
  },
  {
   "cell_type": "code",
   "execution_count": 19,
   "metadata": {},
   "outputs": [],
   "source": [
    "df = pd.read_sql('BTCUSDT', engine)"
   ]
  },
  {
   "cell_type": "code",
   "execution_count": 21,
   "metadata": {},
   "outputs": [
    {
     "data": {
      "text/plain": [
       "<AxesSubplot:>"
      ]
     },
     "execution_count": 21,
     "metadata": {},
     "output_type": "execute_result"
    },
    {
     "data": {
      "image/png": "[encoded data removed]",
      "text/plain": [
       "<Figure size 432x288 with 1 Axes>"
      ]
     },
     "metadata": {
      "needs_background": "light"
     },
     "output_type": "display_data"
    }
   ],
   "source": [
    "df.Price.plot()"
   ]
  },
  {
   "cell_type": "code",
   "execution_count": 22,
   "metadata": {},
   "outputs": [],
   "source": [
    "#TrendFollowing\n",
    "#if the crypto was rising by x % -> BUY\n",
    "#exit when profit is above 0.15% or loss is crossing -0.15%"
   ]
  },
  {
   "cell_type": "code",
   "execution_count": null,
   "metadata": {},
   "outputs": [],
   "source": [
    "def strategy(entry, lookback, qty, open_position=False):\n",
    "    while True:\n",
    "        df = pd.read_sql('BTCUSDT', engine)\n",
    "        lookbackperiod = df.iloc[-lookback:]\n",
    "        cumret = (lookbackperiod.Price.pct_change() + 1).cumprod() - 1\n",
    "        if not open_position:\n",
    "            if cumret[cumret.last_valid_index()] > entry:\n",
    "                order = client.create_order(symbol='BTCUSDT',\n",
    "                                           side = 'BUY',\n",
    "                                           type='MARKET',\n",
    "                                           quantity=qty)\n",
    "                print(order)\n",
    "                open_position=True\n",
    "                break\n",
    "    if open_position:\n",
    "        while True:\n",
    "            df = pd.read_sql('BTCUSDT', engine)\n",
    "            sincebuy = df.loc[df.Time > pd.to_datetime(order['transactionTime'], unit='ms')]\n",
    "            if len(sincebuy) > 1:\n",
    "                sincebuyret = (sincebuy.Price.pct_change() + 1).cumprod() - 1\n",
    "                last_entry = sincebuyret[sincebuyret.last_valid_index()]\n",
    "                if last_entry > 0.0015 or last_entry < -0.0015:\n",
    "                    order = client.create_order(symbol='BTCUSDT',\n",
    "                                           side = 'SELL',\n",
    "                                           type='MARKET',\n",
    "                                           quantity=qty)\n",
    "                    print(order)\n",
    "                    break\n",
    "                "
   ]
  }
 ],
 "metadata": {
  "kernelspec": {
   "display_name": "Python 3",
   "language": "python",
   "name": "python3"
  },
  "language_info": {
   "codemirror_mode": {
    "name": "ipython",
    "version": 3
   },
   "file_extension": ".py",
   "mimetype": "text/x-python",
   "name": "python",
   "nbconvert_exporter": "python",
   "pygments_lexer": "ipython3",
   "version": "3.7.4"
  }
 },
 "nbformat": 4,
 "nbformat_minor": 4
}
