{
 "cells": [
  {
   "cell_type": "code",
   "execution_count": 2,
   "metadata": {},
   "outputs": [],
   "source": [
    "import pandas as pd\n",
    "\n",
    "df = pd.read_csv(\"./BTC_ETH_LTC_Jan2721_JUL2121_1h.csv\")\n",
    "\n",
    "def sma(data, window):\n",
    "    return(data.rolling(window = window).mean())\n",
    "\n",
    "def bollinger_band(data, sma, window, nstd):\n",
    "    std = data.rolling(window = window).std()\n",
    "    upper_band = sma + std * nstd\n",
    "    lower_band = sma - std * nstd\n",
    "    \n",
    "    return upper_band, lower_band\n",
    "\n",
    "symbols = ['BTC', 'ETH', 'LTC']\n",
    "\n",
    "nstd = 3\n",
    "\n",
    "for symbol in symbols:\n",
    "    df[f'{symbol}_sma'] = sma(df[f'{symbol}-USD_Open'], 20)\n",
    "    df[f'{symbol}_upper_band'], df[f'{symbol}_lower_band'] = bollinger_band(df[f'{symbol}-USD_Open'], df[f'{symbol}_sma'], 20, nstd)\n",
    "    \n",
    "df.dropna(inplace=True)"
   ]
  },
  {
   "cell_type": "code",
   "execution_count": 3,
   "metadata": {},
   "outputs": [],
   "source": [
    "class TradingEnv:\n",
    "    def __init__(self, balance_amount, balance_unit, trading_fee_multiplier):\n",
    "        self.balance_amount = balance_amount\n",
    "        self.balance_unit = balance_unit\n",
    "        self.buys = []\n",
    "        self.sells = []\n",
    "        self.trading_fee_multiplier = 0.99925 #VIP Level 0, paying fees with BNB\n",
    "        \n",
    "        self.bottoms = {}\n",
    "        \n",
    "        self.tops = {}\n",
    "        \n",
    "    def buy(self, symbol, buy_price, time):\n",
    "        self.balance_amount = (self.balance_amount / buy_price) * self.trading_fee_multiplier\n",
    "        self.balance_unit = symbol\n",
    "        self.buys.append([symbol, time, buy_price])\n",
    "    def sell(self, sell_price, time):\n",
    "        self.balance_amount = self.balance_amount * sell_price * self.trading_fee_multiplier\n",
    "        self.sells.append([self.balance_unit, time, sell_price])\n",
    "        self.balance_unit = 'USDT'\n",
    "        \n",
    "    def reset_bottoms(self):\n",
    "        for symbol in symbols:\n",
    "            self.bottoms[symbol] = 'none'\n",
    "        \n",
    "    def reset_tops(self):\n",
    "        \n",
    "        "
   ]
  },
  {
   "cell_type": "code",
   "execution_count": 4,
   "metadata": {},
   "outputs": [
    {
     "name": "stdout",
     "output_type": "stream",
     "text": [
      "num buys: 52\n",
      "num sells: 52\n",
      "ending balance: 108.26844406594051 USDT\n"
     ]
    }
   ],
   "source": [
    "env = TradingEnv(balance_amount=100, balance_unit='USDT', trading_fee_multiplier = 0.99925)\n",
    "\n",
    "for i in range(len(df)):\n",
    "    if env.balance_unit == 'USDT':\n",
    "        for symbol in symbols:\n",
    "            if df[f'{symbol}-USD_Low'].iloc[i] < df[f'{symbol}_lower_band'].iloc[i]: #buy signal\n",
    "                env.buy(symbol, df[f'{symbol}_lower_band'].iloc[i], df['OpenTime'].iloc[i])\n",
    "                break\n",
    "    if env.balance_unit != 'USDT':\n",
    "        if df[f'{env.balance_unit}-USD_High'].iloc[i] > df[f'{env.balance_unit}_upper_band'].iloc[i]: #sell signal\n",
    "            env.sell(df[f'{env.balance_unit}_upper_band'].iloc[i], df['OpenTime'].iloc[i])\n",
    "            \n",
    "if env.balance_unit != 'USDT':\n",
    "    env.sell(df[f'{env.balance_unit}-USD_Close'].iloc[-1], df['OpenTime'].iloc[-1])\n",
    "    \n",
    "print(f'num buys: {len(env.buys)}')\n",
    "print(f'num sells: {len(env.sells)}')\n",
    "print(f'ending balance: {env.balance_amount} {env.balance_unit}')"
   ]
  },
  {
   "cell_type": "code",
   "execution_count": null,
   "metadata": {},
   "outputs": [],
   "source": []
  }
 ],
 "metadata": {
  "kernelspec": {
   "display_name": "Python 3",
   "language": "python",
   "name": "python3"
  },
  "language_info": {
   "codemirror_mode": {
    "name": "ipython",
    "version": 3
   },
   "file_extension": ".py",
   "mimetype": "text/x-python",
   "name": "python",
   "nbconvert_exporter": "python",
   "pygments_lexer": "ipython3",
   "version": "3.7.4"
  }
 },
 "nbformat": 4,
 "nbformat_minor": 4
}
