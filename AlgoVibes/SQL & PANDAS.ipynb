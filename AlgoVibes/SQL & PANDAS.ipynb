{
 "cells": [
  {
   "cell_type": "code",
   "execution_count": 28,
   "metadata": {},
   "outputs": [],
   "source": [
    "import sqlite3\n",
    "import pandas as pd\n",
    "import sqlalchemy"
   ]
  },
  {
   "cell_type": "code",
   "execution_count": 2,
   "metadata": {},
   "outputs": [
    {
     "name": "stdout",
     "output_type": "stream",
     "text": [
      "Collecting sqlalchemy\n",
      "  Downloading SQLAlchemy-1.4.26-cp37-cp37m-manylinux_2_5_x86_64.manylinux1_x86_64.manylinux_2_17_x86_64.manylinux2014_x86_64.whl (1.6 MB)\n",
      "\u001b[K     |████████████████████████████████| 1.6 MB 1.9 MB/s eta 0:00:01     |████████████████████████████▋   | 1.4 MB 1.9 MB/s eta 0:00:01\n",
      "\u001b[?25hCollecting greenlet!=0.4.17; python_version >= \"3\" and (platform_machine == \"aarch64\" or (platform_machine == \"ppc64le\" or (platform_machine == \"x86_64\" or (platform_machine == \"amd64\" or (platform_machine == \"AMD64\" or (platform_machine == \"win32\" or platform_machine == \"WIN32\"))))))\n",
      "  Downloading greenlet-1.1.2-cp37-cp37m-manylinux_2_17_x86_64.manylinux2014_x86_64.whl (150 kB)\n",
      "\u001b[K     |████████████████████████████████| 150 kB 2.6 MB/s eta 0:00:01     |████▍                           | 20 kB 5.1 MB/s eta 0:00:01\n",
      "\u001b[?25hRequirement already satisfied: importlib-metadata; python_version < \"3.8\" in /usr/local/lib/python3.7/site-packages (from sqlalchemy) (2.0.0)\n",
      "Requirement already satisfied: zipp>=0.5 in /usr/local/lib/python3.7/site-packages (from importlib-metadata; python_version < \"3.8\"->sqlalchemy) (3.4.0)\n",
      "Installing collected packages: greenlet, sqlalchemy\n",
      "Successfully installed greenlet-1.1.2 sqlalchemy-1.4.26\n",
      "\u001b[33mWARNING: You are using pip version 20.2.4; however, version 21.3.1 is available.\n",
      "You should consider upgrading via the '/usr/local/bin/python3.7 -m pip install --upgrade pip' command.\u001b[0m\n"
     ]
    }
   ],
   "source": [
    "!pip install sqlalchemy"
   ]
  },
  {
   "cell_type": "code",
   "execution_count": 35,
   "metadata": {},
   "outputs": [],
   "source": [
    "connection = sqlite3.connect('OurDataBase2.db')"
   ]
  },
  {
   "cell_type": "code",
   "execution_count": 37,
   "metadata": {},
   "outputs": [],
   "source": [
    "cursor = connection.cursor()"
   ]
  },
  {
   "cell_type": "code",
   "execution_count": 38,
   "metadata": {},
   "outputs": [
    {
     "data": {
      "text/plain": [
       "<sqlite3.Cursor at 0x7feadec28730>"
      ]
     },
     "execution_count": 38,
     "metadata": {},
     "output_type": "execute_result"
    }
   ],
   "source": [
    "cursor.execute('CREATE TABLE employees(name TEXT, surname TEXT, salary REAL)')"
   ]
  },
  {
   "cell_type": "code",
   "execution_count": 39,
   "metadata": {},
   "outputs": [],
   "source": [
    "connection.commit()"
   ]
  },
  {
   "cell_type": "code",
   "execution_count": 40,
   "metadata": {},
   "outputs": [],
   "source": [
    "engine = sqlalchemy.create_engine('sqlite:///OurDataBase2.db')"
   ]
  },
  {
   "cell_type": "code",
   "execution_count": 41,
   "metadata": {},
   "outputs": [
    {
     "data": {
      "text/html": [
       "<div>\n",
       "<style scoped>\n",
       "    .dataframe tbody tr th:only-of-type {\n",
       "        vertical-align: middle;\n",
       "    }\n",
       "\n",
       "    .dataframe tbody tr th {\n",
       "        vertical-align: top;\n",
       "    }\n",
       "\n",
       "    .dataframe thead th {\n",
       "        text-align: right;\n",
       "    }\n",
       "</style>\n",
       "<table border=\"1\" class=\"dataframe\">\n",
       "  <thead>\n",
       "    <tr style=\"text-align: right;\">\n",
       "      <th></th>\n",
       "      <th>name</th>\n",
       "      <th>surname</th>\n",
       "      <th>salary</th>\n",
       "    </tr>\n",
       "  </thead>\n",
       "  <tbody>\n",
       "  </tbody>\n",
       "</table>\n",
       "</div>"
      ],
      "text/plain": [
       "Empty DataFrame\n",
       "Columns: [name, surname, salary]\n",
       "Index: []"
      ]
     },
     "execution_count": 41,
     "metadata": {},
     "output_type": "execute_result"
    }
   ],
   "source": [
    "pd.read_sql('employees', engine)"
   ]
  },
  {
   "cell_type": "code",
   "execution_count": 42,
   "metadata": {},
   "outputs": [],
   "source": [
    "df1 = pd.DataFrame([{'name':'Maxwell', 'surname':'Foster', 'salary':120000.00}])"
   ]
  },
  {
   "cell_type": "code",
   "execution_count": 43,
   "metadata": {},
   "outputs": [
    {
     "data": {
      "text/html": [
       "<div>\n",
       "<style scoped>\n",
       "    .dataframe tbody tr th:only-of-type {\n",
       "        vertical-align: middle;\n",
       "    }\n",
       "\n",
       "    .dataframe tbody tr th {\n",
       "        vertical-align: top;\n",
       "    }\n",
       "\n",
       "    .dataframe thead th {\n",
       "        text-align: right;\n",
       "    }\n",
       "</style>\n",
       "<table border=\"1\" class=\"dataframe\">\n",
       "  <thead>\n",
       "    <tr style=\"text-align: right;\">\n",
       "      <th></th>\n",
       "      <th>name</th>\n",
       "      <th>surname</th>\n",
       "      <th>salary</th>\n",
       "    </tr>\n",
       "  </thead>\n",
       "  <tbody>\n",
       "    <tr>\n",
       "      <th>0</th>\n",
       "      <td>Maxwell</td>\n",
       "      <td>Foster</td>\n",
       "      <td>120000.0</td>\n",
       "    </tr>\n",
       "  </tbody>\n",
       "</table>\n",
       "</div>"
      ],
      "text/plain": [
       "      name surname    salary\n",
       "0  Maxwell  Foster  120000.0"
      ]
     },
     "execution_count": 43,
     "metadata": {},
     "output_type": "execute_result"
    }
   ],
   "source": [
    "df1"
   ]
  },
  {
   "cell_type": "code",
   "execution_count": 44,
   "metadata": {},
   "outputs": [],
   "source": [
    "df1.to_sql('employees', engine, if_exists='append', index=False)"
   ]
  },
  {
   "cell_type": "code",
   "execution_count": 45,
   "metadata": {},
   "outputs": [],
   "source": [
    "import yfinance as yf"
   ]
  },
  {
   "cell_type": "code",
   "execution_count": 46,
   "metadata": {},
   "outputs": [
    {
     "name": "stdout",
     "output_type": "stream",
     "text": [
      "[*********************100%***********************]  1 of 1 completed\n"
     ]
    }
   ],
   "source": [
    "df = yf.download('GME', start ='2021-01-01')"
   ]
  },
  {
   "cell_type": "code",
   "execution_count": 47,
   "metadata": {},
   "outputs": [
    {
     "data": {
      "text/html": [
       "<div>\n",
       "<style scoped>\n",
       "    .dataframe tbody tr th:only-of-type {\n",
       "        vertical-align: middle;\n",
       "    }\n",
       "\n",
       "    .dataframe tbody tr th {\n",
       "        vertical-align: top;\n",
       "    }\n",
       "\n",
       "    .dataframe thead th {\n",
       "        text-align: right;\n",
       "    }\n",
       "</style>\n",
       "<table border=\"1\" class=\"dataframe\">\n",
       "  <thead>\n",
       "    <tr style=\"text-align: right;\">\n",
       "      <th></th>\n",
       "      <th>Open</th>\n",
       "      <th>High</th>\n",
       "      <th>Low</th>\n",
       "      <th>Close</th>\n",
       "      <th>Adj Close</th>\n",
       "      <th>Volume</th>\n",
       "    </tr>\n",
       "    <tr>\n",
       "      <th>Date</th>\n",
       "      <th></th>\n",
       "      <th></th>\n",
       "      <th></th>\n",
       "      <th></th>\n",
       "      <th></th>\n",
       "      <th></th>\n",
       "    </tr>\n",
       "  </thead>\n",
       "  <tbody>\n",
       "    <tr>\n",
       "      <th>2021-01-04</th>\n",
       "      <td>19.000000</td>\n",
       "      <td>19.100000</td>\n",
       "      <td>17.150000</td>\n",
       "      <td>17.250000</td>\n",
       "      <td>17.250000</td>\n",
       "      <td>10022500</td>\n",
       "    </tr>\n",
       "    <tr>\n",
       "      <th>2021-01-05</th>\n",
       "      <td>17.350000</td>\n",
       "      <td>18.080000</td>\n",
       "      <td>17.230000</td>\n",
       "      <td>17.370001</td>\n",
       "      <td>17.370001</td>\n",
       "      <td>4961500</td>\n",
       "    </tr>\n",
       "    <tr>\n",
       "      <th>2021-01-06</th>\n",
       "      <td>17.340000</td>\n",
       "      <td>18.980000</td>\n",
       "      <td>17.330000</td>\n",
       "      <td>18.360001</td>\n",
       "      <td>18.360001</td>\n",
       "      <td>6056200</td>\n",
       "    </tr>\n",
       "    <tr>\n",
       "      <th>2021-01-07</th>\n",
       "      <td>18.469999</td>\n",
       "      <td>19.450001</td>\n",
       "      <td>18.020000</td>\n",
       "      <td>18.080000</td>\n",
       "      <td>18.080000</td>\n",
       "      <td>6129300</td>\n",
       "    </tr>\n",
       "    <tr>\n",
       "      <th>2021-01-08</th>\n",
       "      <td>18.180000</td>\n",
       "      <td>18.299999</td>\n",
       "      <td>17.080000</td>\n",
       "      <td>17.690001</td>\n",
       "      <td>17.690001</td>\n",
       "      <td>6482000</td>\n",
       "    </tr>\n",
       "    <tr>\n",
       "      <th>...</th>\n",
       "      <td>...</td>\n",
       "      <td>...</td>\n",
       "      <td>...</td>\n",
       "      <td>...</td>\n",
       "      <td>...</td>\n",
       "      <td>...</td>\n",
       "    </tr>\n",
       "    <tr>\n",
       "      <th>2021-10-18</th>\n",
       "      <td>182.940002</td>\n",
       "      <td>189.869995</td>\n",
       "      <td>182.550003</td>\n",
       "      <td>186.020004</td>\n",
       "      <td>186.020004</td>\n",
       "      <td>1589600</td>\n",
       "    </tr>\n",
       "    <tr>\n",
       "      <th>2021-10-19</th>\n",
       "      <td>188.990005</td>\n",
       "      <td>192.179993</td>\n",
       "      <td>184.399994</td>\n",
       "      <td>186.789993</td>\n",
       "      <td>186.789993</td>\n",
       "      <td>2070600</td>\n",
       "    </tr>\n",
       "    <tr>\n",
       "      <th>2021-10-20</th>\n",
       "      <td>186.330002</td>\n",
       "      <td>188.000000</td>\n",
       "      <td>181.979996</td>\n",
       "      <td>184.520004</td>\n",
       "      <td>184.520004</td>\n",
       "      <td>2276900</td>\n",
       "    </tr>\n",
       "    <tr>\n",
       "      <th>2021-10-21</th>\n",
       "      <td>184.710007</td>\n",
       "      <td>190.699997</td>\n",
       "      <td>180.600006</td>\n",
       "      <td>181.710007</td>\n",
       "      <td>181.710007</td>\n",
       "      <td>2402400</td>\n",
       "    </tr>\n",
       "    <tr>\n",
       "      <th>2021-10-22</th>\n",
       "      <td>178.100006</td>\n",
       "      <td>179.490005</td>\n",
       "      <td>167.800003</td>\n",
       "      <td>169.800003</td>\n",
       "      <td>169.800003</td>\n",
       "      <td>2797200</td>\n",
       "    </tr>\n",
       "  </tbody>\n",
       "</table>\n",
       "<p>204 rows × 6 columns</p>\n",
       "</div>"
      ],
      "text/plain": [
       "                  Open        High         Low       Close   Adj Close  \\\n",
       "Date                                                                     \n",
       "2021-01-04   19.000000   19.100000   17.150000   17.250000   17.250000   \n",
       "2021-01-05   17.350000   18.080000   17.230000   17.370001   17.370001   \n",
       "2021-01-06   17.340000   18.980000   17.330000   18.360001   18.360001   \n",
       "2021-01-07   18.469999   19.450001   18.020000   18.080000   18.080000   \n",
       "2021-01-08   18.180000   18.299999   17.080000   17.690001   17.690001   \n",
       "...                ...         ...         ...         ...         ...   \n",
       "2021-10-18  182.940002  189.869995  182.550003  186.020004  186.020004   \n",
       "2021-10-19  188.990005  192.179993  184.399994  186.789993  186.789993   \n",
       "2021-10-20  186.330002  188.000000  181.979996  184.520004  184.520004   \n",
       "2021-10-21  184.710007  190.699997  180.600006  181.710007  181.710007   \n",
       "2021-10-22  178.100006  179.490005  167.800003  169.800003  169.800003   \n",
       "\n",
       "              Volume  \n",
       "Date                  \n",
       "2021-01-04  10022500  \n",
       "2021-01-05   4961500  \n",
       "2021-01-06   6056200  \n",
       "2021-01-07   6129300  \n",
       "2021-01-08   6482000  \n",
       "...              ...  \n",
       "2021-10-18   1589600  \n",
       "2021-10-19   2070600  \n",
       "2021-10-20   2276900  \n",
       "2021-10-21   2402400  \n",
       "2021-10-22   2797200  \n",
       "\n",
       "[204 rows x 6 columns]"
      ]
     },
     "execution_count": 47,
     "metadata": {},
     "output_type": "execute_result"
    }
   ],
   "source": [
    "df"
   ]
  },
  {
   "cell_type": "code",
   "execution_count": 48,
   "metadata": {},
   "outputs": [],
   "source": [
    "df.to_sql('GME', engine)"
   ]
  },
  {
   "cell_type": "code",
   "execution_count": 49,
   "metadata": {},
   "outputs": [
    {
     "data": {
      "text/html": [
       "<div>\n",
       "<style scoped>\n",
       "    .dataframe tbody tr th:only-of-type {\n",
       "        vertical-align: middle;\n",
       "    }\n",
       "\n",
       "    .dataframe tbody tr th {\n",
       "        vertical-align: top;\n",
       "    }\n",
       "\n",
       "    .dataframe thead th {\n",
       "        text-align: right;\n",
       "    }\n",
       "</style>\n",
       "<table border=\"1\" class=\"dataframe\">\n",
       "  <thead>\n",
       "    <tr style=\"text-align: right;\">\n",
       "      <th></th>\n",
       "      <th>Date</th>\n",
       "      <th>Open</th>\n",
       "      <th>High</th>\n",
       "      <th>Low</th>\n",
       "      <th>Close</th>\n",
       "      <th>Adj Close</th>\n",
       "      <th>Volume</th>\n",
       "    </tr>\n",
       "  </thead>\n",
       "  <tbody>\n",
       "    <tr>\n",
       "      <th>0</th>\n",
       "      <td>2021-01-04</td>\n",
       "      <td>19.000000</td>\n",
       "      <td>19.100000</td>\n",
       "      <td>17.150000</td>\n",
       "      <td>17.250000</td>\n",
       "      <td>17.250000</td>\n",
       "      <td>10022500</td>\n",
       "    </tr>\n",
       "    <tr>\n",
       "      <th>1</th>\n",
       "      <td>2021-01-05</td>\n",
       "      <td>17.350000</td>\n",
       "      <td>18.080000</td>\n",
       "      <td>17.230000</td>\n",
       "      <td>17.370001</td>\n",
       "      <td>17.370001</td>\n",
       "      <td>4961500</td>\n",
       "    </tr>\n",
       "    <tr>\n",
       "      <th>2</th>\n",
       "      <td>2021-01-06</td>\n",
       "      <td>17.340000</td>\n",
       "      <td>18.980000</td>\n",
       "      <td>17.330000</td>\n",
       "      <td>18.360001</td>\n",
       "      <td>18.360001</td>\n",
       "      <td>6056200</td>\n",
       "    </tr>\n",
       "    <tr>\n",
       "      <th>3</th>\n",
       "      <td>2021-01-07</td>\n",
       "      <td>18.469999</td>\n",
       "      <td>19.450001</td>\n",
       "      <td>18.020000</td>\n",
       "      <td>18.080000</td>\n",
       "      <td>18.080000</td>\n",
       "      <td>6129300</td>\n",
       "    </tr>\n",
       "    <tr>\n",
       "      <th>4</th>\n",
       "      <td>2021-01-08</td>\n",
       "      <td>18.180000</td>\n",
       "      <td>18.299999</td>\n",
       "      <td>17.080000</td>\n",
       "      <td>17.690001</td>\n",
       "      <td>17.690001</td>\n",
       "      <td>6482000</td>\n",
       "    </tr>\n",
       "    <tr>\n",
       "      <th>...</th>\n",
       "      <td>...</td>\n",
       "      <td>...</td>\n",
       "      <td>...</td>\n",
       "      <td>...</td>\n",
       "      <td>...</td>\n",
       "      <td>...</td>\n",
       "      <td>...</td>\n",
       "    </tr>\n",
       "    <tr>\n",
       "      <th>199</th>\n",
       "      <td>2021-10-18</td>\n",
       "      <td>182.940002</td>\n",
       "      <td>189.869995</td>\n",
       "      <td>182.550003</td>\n",
       "      <td>186.020004</td>\n",
       "      <td>186.020004</td>\n",
       "      <td>1589600</td>\n",
       "    </tr>\n",
       "    <tr>\n",
       "      <th>200</th>\n",
       "      <td>2021-10-19</td>\n",
       "      <td>188.990005</td>\n",
       "      <td>192.179993</td>\n",
       "      <td>184.399994</td>\n",
       "      <td>186.789993</td>\n",
       "      <td>186.789993</td>\n",
       "      <td>2070600</td>\n",
       "    </tr>\n",
       "    <tr>\n",
       "      <th>201</th>\n",
       "      <td>2021-10-20</td>\n",
       "      <td>186.330002</td>\n",
       "      <td>188.000000</td>\n",
       "      <td>181.979996</td>\n",
       "      <td>184.520004</td>\n",
       "      <td>184.520004</td>\n",
       "      <td>2276900</td>\n",
       "    </tr>\n",
       "    <tr>\n",
       "      <th>202</th>\n",
       "      <td>2021-10-21</td>\n",
       "      <td>184.710007</td>\n",
       "      <td>190.699997</td>\n",
       "      <td>180.600006</td>\n",
       "      <td>181.710007</td>\n",
       "      <td>181.710007</td>\n",
       "      <td>2402400</td>\n",
       "    </tr>\n",
       "    <tr>\n",
       "      <th>203</th>\n",
       "      <td>2021-10-22</td>\n",
       "      <td>178.100006</td>\n",
       "      <td>179.490005</td>\n",
       "      <td>167.800003</td>\n",
       "      <td>169.800003</td>\n",
       "      <td>169.800003</td>\n",
       "      <td>2797200</td>\n",
       "    </tr>\n",
       "  </tbody>\n",
       "</table>\n",
       "<p>204 rows × 7 columns</p>\n",
       "</div>"
      ],
      "text/plain": [
       "          Date        Open        High         Low       Close   Adj Close  \\\n",
       "0   2021-01-04   19.000000   19.100000   17.150000   17.250000   17.250000   \n",
       "1   2021-01-05   17.350000   18.080000   17.230000   17.370001   17.370001   \n",
       "2   2021-01-06   17.340000   18.980000   17.330000   18.360001   18.360001   \n",
       "3   2021-01-07   18.469999   19.450001   18.020000   18.080000   18.080000   \n",
       "4   2021-01-08   18.180000   18.299999   17.080000   17.690001   17.690001   \n",
       "..         ...         ...         ...         ...         ...         ...   \n",
       "199 2021-10-18  182.940002  189.869995  182.550003  186.020004  186.020004   \n",
       "200 2021-10-19  188.990005  192.179993  184.399994  186.789993  186.789993   \n",
       "201 2021-10-20  186.330002  188.000000  181.979996  184.520004  184.520004   \n",
       "202 2021-10-21  184.710007  190.699997  180.600006  181.710007  181.710007   \n",
       "203 2021-10-22  178.100006  179.490005  167.800003  169.800003  169.800003   \n",
       "\n",
       "       Volume  \n",
       "0    10022500  \n",
       "1     4961500  \n",
       "2     6056200  \n",
       "3     6129300  \n",
       "4     6482000  \n",
       "..        ...  \n",
       "199   1589600  \n",
       "200   2070600  \n",
       "201   2276900  \n",
       "202   2402400  \n",
       "203   2797200  \n",
       "\n",
       "[204 rows x 7 columns]"
      ]
     },
     "execution_count": 49,
     "metadata": {},
     "output_type": "execute_result"
    }
   ],
   "source": [
    "pd.read_sql('GME', engine)"
   ]
  },
  {
   "cell_type": "code",
   "execution_count": null,
   "metadata": {},
   "outputs": [],
   "source": []
  }
 ],
 "metadata": {
  "kernelspec": {
   "display_name": "Python 3",
   "language": "python",
   "name": "python3"
  },
  "language_info": {
   "codemirror_mode": {
    "name": "ipython",
    "version": 3
   },
   "file_extension": ".py",
   "mimetype": "text/x-python",
   "name": "python",
   "nbconvert_exporter": "python",
   "pygments_lexer": "ipython3",
   "version": "3.7.4"
  }
 },
 "nbformat": 4,
 "nbformat_minor": 4
}
