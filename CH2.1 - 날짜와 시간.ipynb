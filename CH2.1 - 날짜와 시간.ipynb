{
 "cells": [
  {
   "cell_type": "markdown",
   "metadata": {},
   "source": [
    "# 2.1 날짜와 시간"
   ]
  },
  {
   "cell_type": "code",
   "execution_count": 12,
   "metadata": {},
   "outputs": [],
   "source": [
    "from IPython.core.interactiveshell import InteractiveShell\n",
    "InteractiveShell.ast_node_interactivity = \"all\""
   ]
  },
  {
   "cell_type": "code",
   "execution_count": 1,
   "metadata": {},
   "outputs": [
    {
     "name": "stdout",
     "output_type": "stream",
     "text": [
      "<class 'datetime.datetime'>\n",
      "2018-05-13 12:34:56\n"
     ]
    }
   ],
   "source": [
    "import datetime\n",
    "format = \"%Y-%m-%d %H:%M:%S\"\n",
    "datetime_str = '2018-05-13 12:34:56'\n",
    "datetime_dt = datetime.datetime.strptime(datetime_str, format)\n",
    "print(type(datetime_dt))\n",
    "print(datetime_dt)"
   ]
  },
  {
   "cell_type": "code",
   "execution_count": 2,
   "metadata": {},
   "outputs": [
    {
     "name": "stdout",
     "output_type": "stream",
     "text": [
      "<class 'str'>\n",
      "2018-05-13 12:34:56\n"
     ]
    }
   ],
   "source": [
    "datetime_str = datetime_dt.strftime(\"%Y-%m-%d %H:%M:%S\")\n",
    "print(type(datetime_str))\n",
    "print(datetime_str)"
   ]
  },
  {
   "cell_type": "code",
   "execution_count": 3,
   "metadata": {},
   "outputs": [
    {
     "name": "stdout",
     "output_type": "stream",
     "text": [
      "<class 'str'>\n",
      "2018-05-13 12\n"
     ]
    }
   ],
   "source": [
    "datetime_str = datetime_dt.strftime(\"%Y-%m-%d %H\")\n",
    "print(type(datetime_str))\n",
    "print(datetime_str)"
   ]
  },
  {
   "cell_type": "markdown",
   "metadata": {},
   "source": [
    "## 2.1.2 numpy"
   ]
  },
  {
   "cell_type": "code",
   "execution_count": 4,
   "metadata": {},
   "outputs": [
    {
     "data": {
      "text/plain": [
       "numpy.datetime64('2019-01-01')"
      ]
     },
     "execution_count": 4,
     "metadata": {},
     "output_type": "execute_result"
    }
   ],
   "source": [
    "import numpy as np\n",
    "np.datetime64('2019-01-01')"
   ]
  },
  {
   "cell_type": "code",
   "execution_count": 5,
   "metadata": {},
   "outputs": [
    {
     "data": {
      "text/plain": [
       "array(['2007-07-13', '2006-01-13', '2010-08-13'], dtype='datetime64[D]')"
      ]
     },
     "execution_count": 5,
     "metadata": {},
     "output_type": "execute_result"
    }
   ],
   "source": [
    "np.array(['2007-07-13', '2006-01-13', '2010-08-13'], dtype = 'datetime64')"
   ]
  },
  {
   "cell_type": "code",
   "execution_count": 9,
   "metadata": {},
   "outputs": [
    {
     "data": {
      "text/plain": [
       "array(['2005-02-01', '2005-02-02', '2005-02-03', '2005-02-04',\n",
       "       '2005-02-05', '2005-02-06', '2005-02-07', '2005-02-08',\n",
       "       '2005-02-09', '2005-02-10', '2005-02-11', '2005-02-12',\n",
       "       '2005-02-13', '2005-02-14', '2005-02-15', '2005-02-16',\n",
       "       '2005-02-17', '2005-02-18', '2005-02-19', '2005-02-20',\n",
       "       '2005-02-21', '2005-02-22', '2005-02-23', '2005-02-24',\n",
       "       '2005-02-25', '2005-02-26', '2005-02-27', '2005-02-28'],\n",
       "      dtype='datetime64[D]')"
      ]
     },
     "execution_count": 9,
     "metadata": {},
     "output_type": "execute_result"
    }
   ],
   "source": [
    "np.arange('2005-02', '2005-03', dtype='datetime64[D]')"
   ]
  },
  {
   "cell_type": "code",
   "execution_count": 10,
   "metadata": {},
   "outputs": [
    {
     "data": {
      "text/plain": [
       "array(['2005-02', '2005-03', '2005-04', '2005-05', '2005-06', '2005-07',\n",
       "       '2005-08', '2005-09', '2005-10', '2005-11', '2005-12', '2006-01',\n",
       "       '2006-02'], dtype='datetime64[M]')"
      ]
     },
     "execution_count": 10,
     "metadata": {},
     "output_type": "execute_result"
    }
   ],
   "source": [
    "np.arange('2005-02', '2006-03', dtype='datetime64[M]')"
   ]
  },
  {
   "cell_type": "code",
   "execution_count": 13,
   "metadata": {},
   "outputs": [
    {
     "data": {
      "text/plain": [
       "numpy.timedelta64(366,'D')"
      ]
     },
     "execution_count": 13,
     "metadata": {},
     "output_type": "execute_result"
    },
    {
     "data": {
      "text/plain": [
       "numpy.timedelta64(12,'M')"
      ]
     },
     "execution_count": 13,
     "metadata": {},
     "output_type": "execute_result"
    },
    {
     "data": {
      "text/plain": [
       "numpy.timedelta64(366,'D')"
      ]
     },
     "execution_count": 13,
     "metadata": {},
     "output_type": "execute_result"
    }
   ],
   "source": [
    "np.datetime64('2009-01-01') - np.datetime64('2008-01-01')\n",
    "np.datetime64('2009') - np.datetime64('2008-01')\n",
    "np.datetime64('2009-01-01') - np.datetime64('2008-01')"
   ]
  },
  {
   "cell_type": "markdown",
   "metadata": {},
   "source": [
    "## 2.1.3 pandas"
   ]
  },
  {
   "cell_type": "code",
   "execution_count": 14,
   "metadata": {},
   "outputs": [
    {
     "data": {
      "text/plain": [
       "Timestamp('1973-05-24 02:58:19.724160')"
      ]
     },
     "execution_count": 14,
     "metadata": {},
     "output_type": "execute_result"
    },
    {
     "data": {
      "text/plain": [
       "Timestamp('2019-01-01 00:00:00')"
      ]
     },
     "execution_count": 14,
     "metadata": {},
     "output_type": "execute_result"
    },
    {
     "data": {
      "text/plain": [
       "Timestamp('2019-01-01 12:00:00')"
      ]
     },
     "execution_count": 14,
     "metadata": {},
     "output_type": "execute_result"
    },
    {
     "data": {
      "text/plain": [
       "DatetimeIndex(['2018-01-01', '2019-01-02'], dtype='datetime64[ns]', freq=None)"
      ]
     },
     "execution_count": 14,
     "metadata": {},
     "output_type": "execute_result"
    },
    {
     "data": {
      "text/plain": [
       "DatetimeIndex(['2019-01-01', '2019-01-02', '2019-01-03', '2019-01-04',\n",
       "               '2019-01-05', '2019-01-06', '2019-01-07', '2019-01-08',\n",
       "               '2019-01-09', '2019-01-10', '2019-01-11', '2019-01-12',\n",
       "               '2019-01-13', '2019-01-14', '2019-01-15', '2019-01-16',\n",
       "               '2019-01-17', '2019-01-18', '2019-01-19', '2019-01-20',\n",
       "               '2019-01-21', '2019-01-22', '2019-01-23', '2019-01-24',\n",
       "               '2019-01-25', '2019-01-26', '2019-01-27', '2019-01-28',\n",
       "               '2019-01-29', '2019-01-30', '2019-01-31', '2019-02-01'],\n",
       "              dtype='datetime64[ns]', freq='D')"
      ]
     },
     "execution_count": 14,
     "metadata": {},
     "output_type": "execute_result"
    }
   ],
   "source": [
    "import pandas as pd\n",
    "pd.Timestamp(1239.1238394, unit = \"D\")\n",
    "pd.Timestamp('2019-1-1')\n",
    "pd.to_datetime('2019-1-1 12')\n",
    "pd.to_datetime(['2018-1-1', '2019-1-2'])\n",
    "pd.date_range('2019-01', '2019-02')"
   ]
  },
  {
   "cell_type": "code",
   "execution_count": 15,
   "metadata": {},
   "outputs": [
    {
     "data": {
      "text/plain": [
       "Period('2019-01', 'M')"
      ]
     },
     "execution_count": 15,
     "metadata": {},
     "output_type": "execute_result"
    },
    {
     "data": {
      "text/plain": [
       "Period('2019-05-01', 'D')"
      ]
     },
     "execution_count": 15,
     "metadata": {},
     "output_type": "execute_result"
    },
    {
     "data": {
      "text/plain": [
       "PeriodIndex(['2019-01-01', '2019-01-02', '2019-01-03', '2019-01-04',\n",
       "             '2019-01-05', '2019-01-06', '2019-01-07', '2019-01-08',\n",
       "             '2019-01-09', '2019-01-10', '2019-01-11', '2019-01-12',\n",
       "             '2019-01-13', '2019-01-14', '2019-01-15', '2019-01-16',\n",
       "             '2019-01-17', '2019-01-18', '2019-01-19', '2019-01-20',\n",
       "             '2019-01-21', '2019-01-22', '2019-01-23', '2019-01-24',\n",
       "             '2019-01-25', '2019-01-26', '2019-01-27', '2019-01-28',\n",
       "             '2019-01-29', '2019-01-30', '2019-01-31', '2019-02-01'],\n",
       "            dtype='period[D]', freq='D')"
      ]
     },
     "execution_count": 15,
     "metadata": {},
     "output_type": "execute_result"
    }
   ],
   "source": [
    "import pandas as pd\n",
    "pd.Period('2019-01')\n",
    "pd.Period('2019-05', freq = 'D')\n",
    "pd.period_range('2019-01', '2019-02', freq=\"D\")"
   ]
  },
  {
   "cell_type": "code",
   "execution_count": 16,
   "metadata": {},
   "outputs": [
    {
     "data": {
      "text/plain": [
       "True"
      ]
     },
     "execution_count": 16,
     "metadata": {},
     "output_type": "execute_result"
    }
   ],
   "source": [
    "p = pd.Period('2019-06-13')\n",
    "test = pd.Timestamp('2019-06-13 22:11')\n",
    "p.start_time < test < p.end_time"
   ]
  },
  {
   "cell_type": "code",
   "execution_count": 17,
   "metadata": {},
   "outputs": [
    {
     "data": {
      "text/plain": [
       "DatetimeIndex(['2019-01-01', '2019-01-02', '2019-01-03', '2019-01-04',\n",
       "               '2019-01-07', '2019-01-08', '2019-01-09', '2019-01-10',\n",
       "               '2019-01-11', '2019-01-14', '2019-01-15', '2019-01-16',\n",
       "               '2019-01-17', '2019-01-18', '2019-01-21', '2019-01-22',\n",
       "               '2019-01-23', '2019-01-24', '2019-01-25', '2019-01-28',\n",
       "               '2019-01-29', '2019-01-30', '2019-01-31', '2019-02-01'],\n",
       "              dtype='datetime64[ns]', freq='B')"
      ]
     },
     "execution_count": 17,
     "metadata": {},
     "output_type": "execute_result"
    },
    {
     "data": {
      "text/plain": [
       "DatetimeIndex(['2019-01-06', '2019-01-13', '2019-01-20', '2019-01-27'], dtype='datetime64[ns]', freq='W-SUN')"
      ]
     },
     "execution_count": 17,
     "metadata": {},
     "output_type": "execute_result"
    },
    {
     "data": {
      "text/plain": [
       "DatetimeIndex(['2019-01-07', '2019-01-14', '2019-01-21', '2019-01-28'], dtype='datetime64[ns]', freq='W-MON')"
      ]
     },
     "execution_count": 17,
     "metadata": {},
     "output_type": "execute_result"
    }
   ],
   "source": [
    "pd.date_range('2019-01', '2019-02', freq = \"B\")\n",
    "pd.date_range('2019-01', '2019-02', freq = \"W\")\n",
    "pd.date_range('2019-01', '2019-02', freq = \"W-MON\")"
   ]
  },
  {
   "cell_type": "code",
   "execution_count": null,
   "metadata": {},
   "outputs": [],
   "source": []
  }
 ],
 "metadata": {
  "kernelspec": {
   "display_name": "Python 3",
   "language": "python",
   "name": "python3"
  },
  "language_info": {
   "codemirror_mode": {
    "name": "ipython",
    "version": 3
   },
   "file_extension": ".py",
   "mimetype": "text/x-python",
   "name": "python",
   "nbconvert_exporter": "python",
   "pygments_lexer": "ipython3",
   "version": "3.7.4"
  }
 },
 "nbformat": 4,
 "nbformat_minor": 4
}
