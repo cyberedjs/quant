{
 "cells": [
  {
   "cell_type": "code",
   "execution_count": 5,
   "metadata": {},
   "outputs": [
    {
     "name": "stdout",
     "output_type": "stream",
     "text": [
      "[{'currency': 'KRW', 'balance': '225155.16221918', 'locked': '0.0', 'avg_buy_price': '0', 'avg_buy_price_modified': True, 'unit_currency': 'KRW'}, {'currency': 'BTC', 'balance': '0.00034', 'locked': '0.0', 'avg_buy_price': '36252000', 'avg_buy_price_modified': False, 'unit_currency': 'KRW'}, {'currency': 'HBAR', 'balance': '1845.35947575', 'locked': '0.0', 'avg_buy_price': '215.48', 'avg_buy_price_modified': False, 'unit_currency': 'KRW'}]\n"
     ]
    }
   ],
   "source": [
    "import pyupbit\n",
    "\n",
    "access = \"odqxjRNyuOKknBC1aMFw573wGRc0pqcqRExYVxTy\"          # 본인 값으로 변경\n",
    "secret = \"d3yTL0eTDFphOz2opt6g4t6T3MvG5WhT4htpGs1W\"          # 본인 값으로 변경\n",
    "upbit = pyupbit.Upbit(access, secret)\n",
    "\n",
    "print(upbit.get_balances()) "
   ]
  },
  {
   "cell_type": "code",
   "execution_count": null,
   "metadata": {},
   "outputs": [],
   "source": []
  }
 ],
 "metadata": {
  "kernelspec": {
   "display_name": "Python 3",
   "language": "python",
   "name": "python3"
  },
  "language_info": {
   "codemirror_mode": {
    "name": "ipython",
    "version": 3
   },
   "file_extension": ".py",
   "mimetype": "text/x-python",
   "name": "python",
   "nbconvert_exporter": "python",
   "pygments_lexer": "ipython3",
   "version": "3.7.4"
  }
 },
 "nbformat": 4,
 "nbformat_minor": 4
}
