{
 "cells": [
  {
   "cell_type": "markdown",
   "metadata": {},
   "source": [
    "# 백테스팅"
   ]
  },
  {
   "cell_type": "code",
   "execution_count": null,
   "metadata": {},
   "outputs": [],
   "source": [
    "import pyupbit\n",
    "import numpy as np\n",
    "\n",
    "# OHLCV(open, high, low, close, volume)로 당일 시가, 고가, 저가, 종가, 거래량에 대한 데이터\n",
    "df = pyupbit.get_ohlcv(\"KRW-BTC\", count=7)\n",
    "\n",
    "# 변동폭 * k 계산, (고가 - 저가) * k값\n",
    "df['range'] = (df['high'] - df['low']) * 0.5\n",
    "\n",
    "# target(매수가), range 컬럼을 한칸씩 밑으로 내림(.shift(1))\n",
    "df['target'] = df['open'] + df['range'].shift(1)\n",
    "\n",
    "# ror(수익률), np.where(조건문, 참일때 값, 거짓일때 값)\n",
    "df['ror'] = np.where(df['high'] > df['target'],\n",
    "                     df['close'] / df['target'],\n",
    "                     1)\n",
    "\n",
    "# 누적 곱 계산(cumprod) => 누적 수익률\n",
    "df['hpr'] = df['ror'].cumprod()\n",
    "\n",
    "# Draw Down 계산 (누적 최대 값과 현재 hpr 차이 / 누적 최대값 * 100)\n",
    "df['dd'] = (df['hpr'].cummax() - df['hpr']) / df['hpr'].cummax() * 100\n",
    "\n",
    "#MDD 계산\n",
    "print(\"MDD(%): \", df['dd'].max())\n",
    "\n",
    "#엑셀로 출력\n",
    "df.to_excel(\"dd.xlsx\")"
   ]
  },
  {
   "cell_type": "markdown",
   "metadata": {},
   "source": [
    "# 좋은 k값 구하기"
   ]
  },
  {
   "cell_type": "code",
   "execution_count": 10,
   "metadata": {},
   "outputs": [
    {
     "name": "stdout",
     "output_type": "stream",
     "text": [
      "0.1 0.998783\n",
      "0.2 1.009976\n",
      "0.3 1.028287\n",
      "0.4 1.024780\n",
      "0.5 1.021298\n",
      "0.6 1.017838\n",
      "0.7 1.014402\n",
      "0.8 1.010989\n",
      "0.9 1.007599\n"
     ]
    }
   ],
   "source": [
    "import pyupbit\n",
    "import numpy as np\n",
    "\n",
    "\n",
    "def get_ror(k=0.5):\n",
    "    df = pyupbit.get_ohlcv(\"KRW-BTC\", count = 7)\n",
    "    df['range'] = (df['high'] - df['low']) * k\n",
    "    df['target'] = df['open'] + df['range'].shift(1)\n",
    "\n",
    "    df['ror'] = np.where(df['high'] > df['target'],\n",
    "                         df['close'] / df['target'],\n",
    "                         1)\n",
    "\n",
    "    ror = df['ror'].cumprod()[-2]\n",
    "    return ror\n",
    "\n",
    "\n",
    "for k in np.arange(0.1, 1.0, 0.1):\n",
    "    ror = get_ror(k)\n",
    "    print(\"%.1f %f\" % (k, ror))"
   ]
  },
  {
   "cell_type": "code",
   "execution_count": null,
   "metadata": {},
   "outputs": [],
   "source": []
  }
 ],
 "metadata": {
  "kernelspec": {
   "display_name": "Python 3",
   "language": "python",
   "name": "python3"
  },
  "language_info": {
   "codemirror_mode": {
    "name": "ipython",
    "version": 3
   },
   "file_extension": ".py",
   "mimetype": "text/x-python",
   "name": "python",
   "nbconvert_exporter": "python",
   "pygments_lexer": "ipython3",
   "version": "3.7.4"
  }
 },
 "nbformat": 4,
 "nbformat_minor": 4
}
