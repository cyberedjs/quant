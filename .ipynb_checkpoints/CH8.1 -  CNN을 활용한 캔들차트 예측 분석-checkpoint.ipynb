{
 "cells": [
  {
   "cell_type": "code",
   "execution_count": null,
   "metadata": {},
   "outputs": [],
   "source": [
    "def createLabel(fname, seq_len):\n",
    "    print(\"Creating label . . .\")\n",
    "    filename = fname.split('/')\n",
    "    removeOutput(\"{}_label_{}.txt\".format(filename[1][:-4], seq_len))\n",
    "    \n",
    "    df = pd.read_csv(fname, parse_dates = True, index_col = 0)\n",
    "    df.fillna(0)\n",
    "    \n",
    "    df.reset_index(inplace = True)\n",
    "    df['Date'] = df['Date'].map(mdates.date2num)"
   ]
  }
 ],
 "metadata": {
  "kernelspec": {
   "display_name": "Python 3",
   "language": "python",
   "name": "python3"
  },
  "language_info": {
   "codemirror_mode": {
    "name": "ipython",
    "version": 3
   },
   "file_extension": ".py",
   "mimetype": "text/x-python",
   "name": "python",
   "nbconvert_exporter": "python",
   "pygments_lexer": "ipython3",
   "version": "3.7.4"
  }
 },
 "nbformat": 4,
 "nbformat_minor": 4
}
