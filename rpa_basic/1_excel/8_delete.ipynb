{
 "cells": [
  {
   "cell_type": "code",
   "execution_count": 4,
   "metadata": {},
   "outputs": [],
   "source": [
    "from openpyxl import load_workbook\n",
    "wb = load_workbook(\"sample.xlsx\")\n",
    "ws = wb.active\n",
    "\n",
    "#ws.delete_rows(8) #8번째 줄에 있는 7번 학생 데이터 삭제\n",
    "#ws.delete_rows(8, 3)\n",
    "#wb.save(\"sample_delete_row.xlsx\")\n",
    "\n",
    "#ws.delete_cols(2)\n",
    "ws.delete_cols(2, 2)\n",
    "wb.save(\"sample_delete_col.xlsx\")"
   ]
  },
  {
   "cell_type": "code",
   "execution_count": null,
   "metadata": {},
   "outputs": [],
   "source": []
  }
 ],
 "metadata": {
  "kernelspec": {
   "display_name": "Python 3",
   "language": "python",
   "name": "python3"
  },
  "language_info": {
   "codemirror_mode": {
    "name": "ipython",
    "version": 3
   },
   "file_extension": ".py",
   "mimetype": "text/x-python",
   "name": "python",
   "nbconvert_exporter": "python",
   "pygments_lexer": "ipython3",
   "version": "3.7.4"
  }
 },
 "nbformat": 4,
 "nbformat_minor": 4
}
