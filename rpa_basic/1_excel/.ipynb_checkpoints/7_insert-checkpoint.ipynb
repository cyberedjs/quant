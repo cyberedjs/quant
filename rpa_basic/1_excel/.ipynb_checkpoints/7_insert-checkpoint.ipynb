{
 "cells": [
  {
   "cell_type": "code",
   "execution_count": 5,
   "metadata": {},
   "outputs": [],
   "source": [
    "from openpyxl import load_workbook\n",
    "wb = load_workbook(\"sample.xlsx\")\n",
    "ws = wb.active\n",
    "\n",
    "# ws.insert_rows(8) #8번째 줄이 비워짐\n",
    "#ws.insert_rows(8, 5) #8번째 줄 위치에 5줄을 추가\n",
    "\n",
    "#ws.insert_cols(2) #B번째 열이 비워짐\n",
    "ws.insert_cols(2, 3)\n",
    "\n",
    "#wb.save(\"sample_insert_rows.xlsx\")\n",
    "wb.save(\"sample_insert_cols.xlsx\")\n",
    "\n"
   ]
  },
  {
   "cell_type": "code",
   "execution_count": null,
   "metadata": {},
   "outputs": [],
   "source": []
  }
 ],
 "metadata": {
  "kernelspec": {
   "display_name": "Python 3",
   "language": "python",
   "name": "python3"
  },
  "language_info": {
   "codemirror_mode": {
    "name": "ipython",
    "version": 3
   },
   "file_extension": ".py",
   "mimetype": "text/x-python",
   "name": "python",
   "nbconvert_exporter": "python",
   "pygments_lexer": "ipython3",
   "version": "3.7.4"
  }
 },
 "nbformat": 4,
 "nbformat_minor": 4
}
