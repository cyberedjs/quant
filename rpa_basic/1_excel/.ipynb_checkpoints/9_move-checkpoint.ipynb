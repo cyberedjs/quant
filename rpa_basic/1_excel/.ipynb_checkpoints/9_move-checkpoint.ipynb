{
 "cells": [
  {
   "cell_type": "code",
   "execution_count": 2,
   "metadata": {},
   "outputs": [],
   "source": [
    "from openpyxl import load_workbook\n",
    "wb = load_workbook(\"sample.xlsx\")\n",
    "ws = wb.active\n",
    "\n",
    "#번호 영어 수학\n",
    "#번호 (국어) 영어 수학\n",
    "\n",
    "#ws.move_range(\"B1:C11\", rows=0, cols=1)\n",
    "#ws[\"B1\"].value = \"국어\" #B1 셀에 '국어' 입력\n",
    "\n",
    "#번호 영어 수학\n",
    "ws.move_range(\"C1:C11\", rows=5, cols=-1)\n",
    "\n",
    "wb.save(\"sample_korean.xlsx\")"
   ]
  },
  {
   "cell_type": "code",
   "execution_count": null,
   "metadata": {},
   "outputs": [],
   "source": []
  }
 ],
 "metadata": {
  "kernelspec": {
   "display_name": "Python 3",
   "language": "python",
   "name": "python3"
  },
  "language_info": {
   "codemirror_mode": {
    "name": "ipython",
    "version": 3
   },
   "file_extension": ".py",
   "mimetype": "text/x-python",
   "name": "python",
   "nbconvert_exporter": "python",
   "pygments_lexer": "ipython3",
   "version": "3.7.4"
  }
 },
 "nbformat": 4,
 "nbformat_minor": 4
}
