{
 "cells": [
  {
   "cell_type": "code",
   "execution_count": 6,
   "metadata": {},
   "outputs": [],
   "source": [
    "from openpyxl import load_workbook\n",
    "wb = load_workbook(\"sample.xlsx\")\n",
    "ws = wb.active\n",
    "\n",
    "from openpyxl.chart import BarChart, Reference, LineChart\n",
    "\n",
    "#B2:C11까지의 데이터를 차트로 생성\n",
    "# bar_value = Reference(ws, min_row=2, max_row=11, min_col=2, max_col=3)\n",
    "# bar_chart = BarChart()\n",
    "# bar_chart.add_data(bar_value)\n",
    "# ws.add_chart(bar_chart, \"E1\")\n",
    "\n",
    "line_value = Reference(ws, min_row=1, max_row=11, min_col=2, max_col=3)\n",
    "line_chart = LineChart()\n",
    "line_chart.add_data(line_value, titles_from_data=True)\n",
    "line_chart.title = \"성적표\"\n",
    "line_chart.style = 10\n",
    "line_chart.y_axis.title = \"점수\"\n",
    "line_chart.x_axis.title = \"번호\"\n",
    "\n",
    "ws.add_chart(line_chart, \"E1\") \n",
    "wb.save(\"sample_chart.xlsx\")"
   ]
  },
  {
   "cell_type": "code",
   "execution_count": null,
   "metadata": {},
   "outputs": [],
   "source": []
  }
 ],
 "metadata": {
  "kernelspec": {
   "display_name": "Python 3",
   "language": "python",
   "name": "python3"
  },
  "language_info": {
   "codemirror_mode": {
    "name": "ipython",
    "version": 3
   },
   "file_extension": ".py",
   "mimetype": "text/x-python",
   "name": "python",
   "nbconvert_exporter": "python",
   "pygments_lexer": "ipython3",
   "version": "3.7.4"
  }
 },
 "nbformat": 4,
 "nbformat_minor": 4
}
