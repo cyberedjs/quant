{
 "cells": [
  {
   "cell_type": "code",
   "execution_count": 6,
   "metadata": {},
   "outputs": [
    {
     "name": "stdout",
     "output_type": "stream",
     "text": [
      "['Sheet', 'MySheet', 'NewSheet', 'YourSheet']\n"
     ]
    }
   ],
   "source": [
    "from openpyxl import Workbook\n",
    "wb = Workbook()\n",
    "ws = wb.create_sheet()\n",
    "ws.title = \"MySheet\"\n",
    "\n",
    "ws.sheet_properties.tabColor = \"ff66ff\"\n",
    "\n",
    "ws1 = wb.create_sheet(\"YourSheet\")\n",
    "ws2 = wb.create_sheet(\"NewSheet\", 2)\n",
    "\n",
    "new_ws = wb[\"NewSheet\"]\n",
    "\n",
    "print(wb.sheetnames)\n",
    "\n",
    "#Sheet 복사\n",
    "new_ws[\"A1\"] = \"Test\"\n",
    "target = wb.copy_worksheet(new_ws)\n",
    "\n",
    "target.title = \"Copied sheet\"\n",
    "\n",
    "wb.save(\"sample.xlsx\")"
   ]
  },
  {
   "cell_type": "code",
   "execution_count": null,
   "metadata": {},
   "outputs": [],
   "source": [
    " "
   ]
  }
 ],
 "metadata": {
  "kernelspec": {
   "display_name": "Python 3",
   "language": "python",
   "name": "python3"
  },
  "language_info": {
   "codemirror_mode": {
    "name": "ipython",
    "version": 3
   },
   "file_extension": ".py",
   "mimetype": "text/x-python",
   "name": "python",
   "nbconvert_exporter": "python",
   "pygments_lexer": "ipython3",
   "version": "3.7.4"
  }
 },
 "nbformat": 4,
 "nbformat_minor": 4
}
