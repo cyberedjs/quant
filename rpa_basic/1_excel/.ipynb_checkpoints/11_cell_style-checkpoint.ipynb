{
 "cells": [
  {
   "cell_type": "code",
   "execution_count": 7,
   "metadata": {},
   "outputs": [],
   "source": [
    "from openpyxl import load_workbook\n",
    "from openpyxl.styles import Font, Border, Side\n",
    "wb = load_workbook(\"sample.xlsx\")\n",
    "ws = wb.active\n",
    "\n",
    "#번호, 영어, 수학\n",
    "\n",
    "a1 = ws[\"A1\"]\n",
    "b1 = ws[\"B1\"]\n",
    "c1 = ws[\"C1\"]\n",
    "\n",
    "ws.column_dimensions[\"A\"].width = 5\n",
    "\n",
    "# 1 행의 높이를 50으로 설정 \n",
    "ws.row_dimensions[1].height = 50\n",
    "\n",
    "#스타일 적용 \n",
    "a1.font = Font(color=\"FF0000\", italic=True, bold=True)\n",
    "b1.font = Font(color=\"CC33FF\", name = \"Arial\", strike=True)\n",
    "c1.font = Font(color=\"0000FF\", size=20, underline=\"single\")\n",
    "\n",
    "#테두리 적용\n",
    "thin_border = Border(left=Side(style=\"thin\"), right=Side(style=\"thin\"), top=Side(style=\"thin\"), bottom=Side(style=\"thin\"))\n",
    "a1.border = thin_border\n",
    "b1.border = thin_border\n",
    "c1.border = thin_border\n",
    "\n",
    "\n",
    "wb.save(\"sample_style.xlsx\")"
   ]
  },
  {
   "cell_type": "code",
   "execution_count": null,
   "metadata": {},
   "outputs": [],
   "source": []
  }
 ],
 "metadata": {
  "kernelspec": {
   "display_name": "Python 3",
   "language": "python",
   "name": "python3"
  },
  "language_info": {
   "codemirror_mode": {
    "name": "ipython",
    "version": 3
   },
   "file_extension": ".py",
   "mimetype": "text/x-python",
   "name": "python",
   "nbconvert_exporter": "python",
   "pygments_lexer": "ipython3",
   "version": "3.7.4"
  }
 },
 "nbformat": 4,
 "nbformat_minor": 4
}
