{
 "cells": [
  {
   "cell_type": "code",
   "execution_count": 24,
   "metadata": {},
   "outputs": [
    {
     "name": "stdout",
     "output_type": "stream",
     "text": [
      "(<Cell 'Sheet'.A1>, <Cell 'Sheet'.A2>, <Cell 'Sheet'.A3>, <Cell 'Sheet'.A4>, <Cell 'Sheet'.A5>)\n",
      "(<Cell 'Sheet'.B1>, <Cell 'Sheet'.B2>, <Cell 'Sheet'.B3>, <Cell 'Sheet'.B4>, <Cell 'Sheet'.B5>)\n",
      "(<Cell 'Sheet'.C1>, <Cell 'Sheet'.C2>, <Cell 'Sheet'.C3>, <Cell 'Sheet'.C4>, <Cell 'Sheet'.C5>)\n"
     ]
    }
   ],
   "source": [
    "from openpyxl import Workbook\n",
    "from random import *\n",
    "wb = Workbook()\n",
    "ws = wb.active\n",
    "\n",
    "#1줄씩 데이터 넣기\n",
    "ws.append([\"번호\", \"영어\", \"수학\"])\n",
    "\n",
    "for i in range(1, 11):\n",
    "    ws.append([i, randint(0, 100), randint(0, 100)])\n",
    "    \n",
    "\n",
    "col_B = ws[\"B\"] # 영어 Column만 가지고 오기\n",
    "#print(col_B)\n",
    "\n",
    "#for cell in col_B:\n",
    "#    print(cell.value)\n",
    "    \n",
    "    \n",
    "col_range = ws[\"B:C\"]\n",
    "\n",
    "#for cols in col_range:\n",
    "#    for cell in cols:\n",
    "#        print(cell.value)\n",
    "\n",
    "row_title = ws[1]\n",
    "#for cell in row_title:\n",
    "#    print(cell.value)\n",
    "    \n",
    "#row_range = ws[2:6]\n",
    "\n",
    "#for rows in row_range:\n",
    "#    for cell in rows:\n",
    "#        print(cell.value, end = \" \")\n",
    "#    print()\n",
    "\n",
    "from openpyxl.utils.cell import coordinate_from_string\n",
    "\n",
    "#row_range = ws[2:ws.max_row]\n",
    "\n",
    "#for rows in row_range:\n",
    "#   for cell in rows:\n",
    "#       print(cell.value, end = \" \")\n",
    "#       print(cell.coordinate, end = \" \")\n",
    "#       xy = coordinate_from_string(cell.coordinate)\n",
    "#       print(xy, end = \" \")\n",
    "#   print()\n",
    "\n",
    "#전체 rows\n",
    "\n",
    "#print(tuple(ws.rows))\n",
    "\n",
    "# for row in tuple(ws.rows):\n",
    "#     print(row[1].value)\n",
    "\n",
    "#전체 cols\n",
    "\n",
    "#print(tuple(ws.columns))\n",
    "\n",
    "# for column in tuple(ws.columns):\n",
    "#     print(column[0].value)\n",
    "\n",
    "# for row in ws.iter_rows(): # 전체 row\n",
    "#     print(row[1].value)\n",
    "\n",
    "# for column in ws.iter_cols():\n",
    "#     print(column[0].value)\n",
    "\n",
    "#for row in ws.iter_rows(min_row=2, max_row=11, min_col=2, max_col=3):\n",
    "    #print(row[0].value, row[1].value)\n",
    "    #print(row)\n",
    "    \n",
    "for col in ws.iter_cols(min_row=1, max_row=5, min_col=1, max_col=3):\n",
    "    print(col)\n",
    "     \n",
    "wb.save(\"sample.xlsx\")"
   ]
  },
  {
   "cell_type": "code",
   "execution_count": null,
   "metadata": {},
   "outputs": [],
   "source": []
  }
 ],
 "metadata": {
  "kernelspec": {
   "display_name": "Python 3",
   "language": "python",
   "name": "python3"
  },
  "language_info": {
   "codemirror_mode": {
    "name": "ipython",
    "version": 3
   },
   "file_extension": ".py",
   "mimetype": "text/x-python",
   "name": "python",
   "nbconvert_exporter": "python",
   "pygments_lexer": "ipython3",
   "version": "3.7.4"
  }
 },
 "nbformat": 4,
 "nbformat_minor": 4
}
